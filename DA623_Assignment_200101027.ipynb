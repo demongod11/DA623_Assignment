{
  "cells": [
    {
      "cell_type": "markdown",
      "metadata": {
        "id": "wBVSazC2YFcu"
      },
      "source": [
        "# **Linear Discriminant Analysis (LDA)**"
      ]
    },
    {
      "cell_type": "markdown",
      "metadata": {
        "id": "XgqFuX8gZD8g"
      },
      "source": [
        " **Dimensionality Reduction**\n",
        "\n",
        "*   Dimensionality reduction is generally used when dealing with data which has huge number of features and we don't want to work with that huge amount of data.\n",
        "*   So we try to reduce the redundancy among the data by projecting them into lower dimensions that retains some meaningful properties of the original data.\n",
        "\n",
        "*   One more problem in working with data of higher dimensions is overfitting (“curse of dimensionality”).\n",
        "\n",
        "\n",
        "\n",
        "\n",
        "\n",
        "\n",
        "\n"
      ]
    },
    {
      "cell_type": "markdown",
      "metadata": {
        "id": "dZasvaSdbJqn"
      },
      "source": [
        "**Linear Discriminant Analysis**\n",
        "\n",
        "*   LDA is a popular and efficient dimensionality reduction technique which tries to project the data into lower dimensional space in which the separation among the classes is maximum.\n",
        "*   This is a supervised technique.\n",
        "\n"
      ]
    },
    {
      "cell_type": "markdown",
      "metadata": {
        "id": "9h_caJelTyH5"
      },
      "source": [
        "**Objective**\n",
        "\n",
        "\n",
        "*   Our goal is to maximize the separation between different classes while minimizing the variance within each class.\n",
        "\n"
      ]
    },
    {
      "cell_type": "markdown",
      "metadata": {
        "id": "fNa9yKOCU7XT"
      },
      "source": [
        "**Methodology and Mathematical Formulation**\n",
        "\n",
        "\n",
        "1.   We first compute the mean vectors for all the classes.\n",
        "2.   Now we compute the within-class scatter matrix.\n",
        "\n",
        "\\begin{align*}\n",
        "S_W &= \\sum_{i=1}^{c} S_i \\\\\n",
        "\\text{where} \\quad S_i &= \\sum_{\\mathbf{x} \\in D_i} (\\mathbf{x} - \\mathbf{m}_i)(\\mathbf{x} - \\mathbf{m}_i)^T \\\\\n",
        "\\text{and} \\quad \\mathbf{m}_i &= \\frac{1}{n_i} \\sum_{\\mathbf{x} \\in D_i} \\mathbf{x}\n",
        "\\end{align*}\n",
        "\n",
        "Here $S_W$ represents the overall within-class scatter matrix, $S_i$ represents the scatter matrix of class \"$i$\" and $m_i$ is the mean vector of class \"$i$\".\n",
        "\n",
        "We need to minimize this value $S_W$.\n",
        "\n",
        "3. Now we compute between-class scatter matrix.\n",
        "\n",
        "\\begin{align*}\n",
        "S_B = \\sum_{i=1}^{c} N_i (\\mathbf{m}_i - \\mathbf{m})(\\mathbf{m}_i - \\mathbf{m})^T\n",
        "\\end{align*}\n",
        "\n",
        "Here ***m*** is the overall mean, and $m_i$ and $N_i$ are the sample mean and sizes of the respective classes.\n",
        "\n",
        "We need to maximize this value $S_B$.\n",
        "\n",
        "4. Since we need to maximize $S_B$ while minimizing $S_W$, we solve the eigen value problem for the matrix $S^{-1}_WS_B$.\n",
        "\n",
        "5. We find the eigen values and eigen vectors for the above mentioned matrix, sort them in descending order of their eigen values and choose the first ***k*** corresponding eigen vectors as our linear discriminants.\n",
        "\n",
        "6. Using the eigen vectors we got from previous step, we transform our dataset into this new subspace.\n",
        "\n",
        "\\begin{align*}\n",
        "Y = X \\times W\n",
        "\\end{align*}\n",
        "\n",
        "Here $Y$ is the transformed dataset, $X$ is the initial dataset and $W$ is our top ***k*** eigen vectors.\n",
        "\n",
        "\n",
        "\n"
      ]
    },
    {
      "cell_type": "markdown",
      "metadata": {
        "id": "CddrRkRRre2R"
      },
      "source": [
        "## **Implementation**"
      ]
    },
    {
      "cell_type": "markdown",
      "metadata": {
        "id": "uyhQVrverrMC"
      },
      "source": [
        "**Dataset**\n",
        "\n",
        "I am taking the wine dataset from kaggle to demonstrate the use of LDA. This dataset has 178 samples, 13 features and 3 classes."
      ]
    },
    {
      "cell_type": "code",
      "execution_count": 1,
      "metadata": {
        "id": "4WgLQ6d2YNeA"
      },
      "outputs": [],
      "source": [
        "import numpy as np\n",
        "import matplotlib.pyplot as plt\n",
        "from sklearn import datasets"
      ]
    },
    {
      "cell_type": "markdown",
      "metadata": {
        "id": "TxhiFg_suToQ"
      },
      "source": [
        "The feature names and class names can be viewed below :-"
      ]
    },
    {
      "cell_type": "code",
      "execution_count": 2,
      "metadata": {
        "colab": {
          "base_uri": "https://localhost:8080/"
        },
        "id": "9fAGRvjhs7Ar",
        "outputId": "ea5da2ce-5940-4f82-daf6-40ddf6706b95"
      },
      "outputs": [
        {
          "name": "stdout",
          "output_type": "stream",
          "text": [
            "['alcohol', 'malic_acid', 'ash', 'alcalinity_of_ash', 'magnesium', 'total_phenols', 'flavanoids', 'nonflavanoid_phenols', 'proanthocyanins', 'color_intensity', 'hue', 'od280/od315_of_diluted_wines', 'proline']\n",
            "['class_0' 'class_1' 'class_2']\n"
          ]
        }
      ],
      "source": [
        "wine_data = datasets.load_wine()\n",
        "print(wine_data.feature_names)\n",
        "print(wine_data.target_names)"
      ]
    },
    {
      "cell_type": "markdown",
      "metadata": {
        "id": "2kltPX4-v9AH"
      },
      "source": [
        "Number of samples per class are 59, 71 and 48 respectively."
      ]
    },
    {
      "cell_type": "code",
      "execution_count": 3,
      "metadata": {
        "colab": {
          "base_uri": "https://localhost:8080/",
          "height": 472
        },
        "id": "DNSC2ChlvomW",
        "outputId": "b4639fb3-87fd-4d89-b93d-222e89023ba3"
      },
      "outputs": [
        {
          "data": {
            "image/png": "[encoded data removed]",
            "text/plain": [
              "<Figure size 432x288 with 1 Axes>"
            ]
          },
          "metadata": {
            "needs_background": "light"
          },
          "output_type": "display_data"
        }
      ],
      "source": [
        "X = wine_data.data\n",
        "Y = wine_data.target\n",
        "\n",
        "class_labels, class_counts = np.unique(Y, return_counts=True)\n",
        "\n",
        "plt.bar(class_labels, class_counts, tick_label=wine_data.target_names)\n",
        "plt.xlabel('Class')\n",
        "plt.ylabel('Number of Samples')\n",
        "plt.title('Number of Samples per Class in Wine Dataset')\n",
        "plt.show()"
      ]
    },
    {
      "cell_type": "markdown",
      "metadata": {
        "id": "TBykfzxkullI"
      },
      "source": [
        "I am going to demonstrate the use of LDA by reducing the above 13-dimensional feature space into 2-dimensions."
      ]
    },
    {
      "cell_type": "markdown",
      "metadata": {
        "id": "QcYrJ9FRuxpg"
      },
      "source": [
        "**Implementation from Scratch**"
      ]
    },
    {
      "cell_type": "markdown",
      "metadata": {
        "id": "93yXWqP1I8tL"
      },
      "source": [
        "First we'll create a custom class called MyLDA in which we'll implement the LDA functionality from scratch following the steps mentioned in \"Methodology and Mathematical Formulation\" section."
      ]
    },
    {
      "cell_type": "code",
      "execution_count": 4,
      "metadata": {
        "id": "BbYZRrBAwJF6"
      },
      "outputs": [],
      "source": [
        "from sklearn.preprocessing import StandardScaler\n",
        "\n",
        "class MyLDA:\n",
        "    def __init__(self, n_components):\n",
        "        self.n_components = n_components\n",
        "        self.projection_matrix = None\n",
        "\n",
        "    def fit(self, X, y):\n",
        "        n_features = X.shape[1]\n",
        "        classes = np.unique(y)\n",
        "\n",
        "        # Step-1: Computing class means\n",
        "        class_means = np.array([np.mean(X[y == c], axis=0) for c in classes])\n",
        "\n",
        "        # Step-2: Computing within-class scatter matrix\n",
        "        within_class_scatter = np.zeros((n_features, n_features))\n",
        "        for c in classes:\n",
        "            X_c = X[y == c]\n",
        "            diff = X_c - class_means[c]\n",
        "            within_class_scatter += np.dot(diff.T, diff)\n",
        "\n",
        "        # Step-3: Computing between-class scatter matrix\n",
        "        overall_mean = np.mean(X, axis=0)\n",
        "        between_class_scatter = np.zeros((n_features, n_features))\n",
        "        for c in classes:\n",
        "            n = X[y == c].shape[0]\n",
        "            diff = class_means[c] - overall_mean\n",
        "            between_class_scatter += n * np.outer(diff, diff)\n",
        "\n",
        "        # Step-4: Solving generalized eigenvalue problem\n",
        "        eigenvalues, eigenvectors = np.linalg.eig(np.linalg.inv(within_class_scatter).dot(between_class_scatter))\n",
        "\n",
        "        # Step-5: Sorting eigenvalues and eigenvectors\n",
        "        idxs = np.argsort(eigenvalues)[::-1]\n",
        "        eigenvalues = eigenvalues[idxs]\n",
        "        eigenvectors = eigenvectors[:, idxs]\n",
        "        self.projection_matrix = eigenvectors[:, :self.n_components]\n",
        "\n",
        "    def transform(self, X):\n",
        "        return np.dot(X, self.projection_matrix)\n"
      ]
    },
    {
      "cell_type": "markdown",
      "metadata": {
        "id": "ScIXHlUxJZoP"
      },
      "source": [
        "Now we'll call this custom LDA class, project our wine dataset and plot the projected 2-dimensional data."
      ]
    },
    {
      "cell_type": "code",
      "execution_count": 5,
      "metadata": {
        "colab": {
          "base_uri": "https://localhost:8080/",
          "height": 599
        },
        "id": "rRa11n3UxYVZ",
        "outputId": "529fc939-fb07-4f4a-a37e-4e7031ace327"
      },
      "outputs": [
        {
          "name": "stderr",
          "output_type": "stream",
          "text": [
            "c:\\Users\\cchan\\AppData\\Local\\Programs\\Python\\Python39\\lib\\site-packages\\matplotlib\\collections.py:193: ComplexWarning: Casting complex values to real discards the imaginary part\n",
            "  offsets = np.asanyarray(offsets, float)\n"
          ]
        },
        {
          "data": {
            "image/png": "[encoded data removed]",
            "text/plain": [
              "<Figure size 576x432 with 1 Axes>"
            ]
          },
          "metadata": {
            "needs_background": "light"
          },
          "output_type": "display_data"
        }
      ],
      "source": [
        "my_lda = MyLDA(2)\n",
        "my_lda.fit(X, Y)\n",
        "my_X_projected = my_lda.transform(X)\n",
        "\n",
        "# Plotting transformed data\n",
        "plt.figure(figsize=(8, 6))\n",
        "for class_label in np.unique(Y):\n",
        "    plt.scatter(my_X_projected[Y == class_label, 0], my_X_projected[Y == class_label, 1], label=f\"Class {class_label}\")\n",
        "\n",
        "plt.xlabel(\"Linear Discriminant 1\")\n",
        "plt.ylabel(\"Linear Discriminant 2\")\n",
        "plt.title(\"LDA Projection of Wine Dataset\")\n",
        "plt.legend()\n",
        "plt.show()"
      ]
    },
    {
      "cell_type": "markdown",
      "metadata": {
        "id": "jLdlHjK3Joro"
      },
      "source": [
        "As we can see from the above figure, the 3 classes can be clearly distnguished when projected onto 2-dimensional subspace using LDA technique. This can't be done if we use the original data which has 13 dimensions. This shows us the effectiveness of LDA."
      ]
    },
    {
      "cell_type": "markdown",
      "metadata": {
        "id": "bZG4Aj63KQee"
      },
      "source": [
        "**Implementation using in-built LDA**"
      ]
    },
    {
      "cell_type": "markdown",
      "metadata": {
        "id": "cvd5jM4GKZgL"
      },
      "source": [
        "There is already an in-built implementation of LDA in the scikit-learn library. Now we'll use this in-built function to do the same."
      ]
    },
    {
      "cell_type": "code",
      "execution_count": 6,
      "metadata": {
        "colab": {
          "base_uri": "https://localhost:8080/",
          "height": 564
        },
        "id": "w48rl0Fm3QBV",
        "outputId": "65f7472d-0ed3-4f7b-95de-7e5eb755bd0f"
      },
      "outputs": [
        {
          "data": {
            "image/png": "[encoded data removed]",
            "text/plain": [
              "<Figure size 576x432 with 1 Axes>"
            ]
          },
          "metadata": {
            "needs_background": "light"
          },
          "output_type": "display_data"
        }
      ],
      "source": [
        "from sklearn.discriminant_analysis import LinearDiscriminantAnalysis\n",
        "\n",
        "# Initializing and fitting the in-built LDA model\n",
        "lda = LinearDiscriminantAnalysis(n_components=2)\n",
        "X_projected = lda.fit_transform(X, Y)\n",
        "\n",
        "# Plotting transformed data\n",
        "plt.figure(figsize=(8, 6))\n",
        "for class_label in set(Y):\n",
        "    plt.scatter(X_projected[Y == class_label, 0], X_projected[Y == class_label, 1]*-1, label=f\"Class {class_label}\")\n",
        "\n",
        "plt.xlabel(\"Linear Discriminant 1\")\n",
        "plt.ylabel(\"Linear Discriminant 2\")\n",
        "plt.title(\"LDA Projection of Wine Dataset\")\n",
        "plt.legend()\n",
        "plt.show()"
      ]
    },
    {
      "cell_type": "markdown",
      "metadata": {
        "id": "Dz-1LLHUK-_m"
      },
      "source": [
        "As we can see from the above figure, the plot which we got by using in-built LDA class and the plot which we got by using the LDA class which we implemented from scratch are similar. However, as we can see, there is some difference in the scaling aspect of the axes among the 2 plots. This difference is because of the pre-processing (feature scaling) that is done on the dataset by the in-built LDA class."
      ]
    }
  ],
  "metadata": {
    "colab": {
      "provenance": []
    },
    "kernelspec": {
      "display_name": "Python 3",
      "name": "python3"
    },
    "language_info": {
      "codemirror_mode": {
        "name": "ipython",
        "version": 3
      },
      "file_extension": ".py",
      "mimetype": "text/x-python",
      "name": "python",
      "nbconvert_exporter": "python",
      "pygments_lexer": "ipython3",
      "version": "3.9.6"
    }
  },
  "nbformat": 4,
  "nbformat_minor": 0
}
